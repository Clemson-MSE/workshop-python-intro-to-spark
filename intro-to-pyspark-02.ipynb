{
 "cells": [
  {
   "cell_type": "markdown",
   "metadata": {},
   "source": [
    "# <center> Introduction to Spark In-memmory Computing via Python PySpark </center>"
   ]
  },
  {
   "cell_type": "code",
   "execution_count": 5,
   "metadata": {},
   "outputs": [
    {
     "name": "stdout",
     "output_type": "stream",
     "text": [
      "Currently Loaded Modulefiles:\r\n",
      "  1) anaconda3/4.2.0   2) matlab/2015a      3) zeromq/4.1.5\r\n"
     ]
    }
   ],
   "source": [
    "!module list"
   ]
  },
  {
   "cell_type": "code",
   "execution_count": 1,
   "metadata": {
    "collapsed": true,
    "scrolled": true
   },
   "outputs": [],
   "source": [
    "import sys\n",
    "import os\n",
    "\n",
    "sys.path.insert(0, '/usr/hdp/2.6.0.3-8/spark2/python')\n",
    "sys.path.insert(0, '/usr/hdp/2.6.0.3-8/spark2/python/lib/py4j-0.10.4-src.zip')\n",
    "\n",
    "os.environ['SPARK_HOME'] = '/usr/hdp/2.6.0.3-8/spark2/'\n",
    "os.environ['SPARK_CONF_DIR'] = '/etc/hadoop/synced_conf/spark2/'\n",
    "os.environ['PYSPARK_PYTHON'] = '/software/anaconda3/4.2.0/bin/python'\n",
    "\n",
    "import pyspark\n",
    "conf = pyspark.SparkConf()\n",
    "conf.setMaster(\"yarn\")\n",
    "conf.set(\"spark.driver.memory\",\"4g\")\n",
    "conf.set(\"spark.executor.memory\",\"60g\")\n",
    "conf.set(\"spark.num.executors\",\"3\")\n",
    "conf.set(\"spark.executor.cores\",\"12\")\n",
    "\n",
    "sc = pyspark.SparkContext(conf=conf)"
   ]
  },
  {
   "cell_type": "code",
   "execution_count": 2,
   "metadata": {},
   "outputs": [
    {
     "data": {
      "text/plain": [
       "<pyspark.context.SparkContext at 0x2b8643fc8dd8>"
      ]
     },
     "execution_count": 2,
     "metadata": {},
     "output_type": "execute_result"
    }
   ],
   "source": [
    "sc"
   ]
  },
  {
   "cell_type": "markdown",
   "metadata": {},
   "source": [
    "### Movie Ratings\n",
    "\n",
    "An independent movie company is looking to invest in a new movie project. With limited finance, the company wants to \n",
    "analyze the reaction of audiences, particularly toward various movie genres, in order to identify beneficial \n",
    "movie project to focus on. The company relies on data collected from a publicly available recommendation service \n",
    "by [MovieLens](http://dl.acm.org/citation.cfm?id=2827872). This \n",
    "[dataset](http://files.grouplens.org/datasets/movielens/ml-10m-README.html) contains **24404096** ratings and **668953**\n",
    " tag applications across **40110** movies. These data were created by **247753** users between January 09, 1995 and January 29, 2016. This dataset was generated on October 17, 2016. \n",
    "\n",
    "From this dataset, several analyses are possible, include the followings:\n",
    "1.   Find movies which have the highest average ratings over the years and identify the corresponding genre.\n",
    "2.   Find genres which have the highest average ratings over the years.\n",
    "3.   Find users who rate movies most frequently in order to contact them for in-depth marketing analysis.\n",
    "\n",
    "These types of analyses, which are somewhat ambiguous, demand the ability to quickly process large amount of data in \n",
    "elatively short amount of time for decision support purposes. In these situations, the sizes of the data typically \n",
    "make analysis done on a single machine impossible and analysis done using a remote storage system impractical. For \n",
    "remainder of the lessons, we will learn how HDFS provides the basis to store massive amount of data and to enable \n",
    "the programming approach to analyze these data."
   ]
  },
  {
   "cell_type": "code",
   "execution_count": 1,
   "metadata": {},
   "outputs": [
    {
     "name": "stdout",
     "output_type": "stream",
     "text": [
      "Found 7 items\r\n",
      "-rw-r--r--   2 lngo hdfs-user       9511 2017-03-15 09:49 /repository/movielens/README.txt\r\n",
      "-rw-r--r--   2 lngo hdfs-user  333365341 2017-03-15 09:49 /repository/movielens/genome-scores.csv\r\n",
      "-rw-r--r--   2 lngo hdfs-user      18103 2017-03-15 09:49 /repository/movielens/genome-tags.csv\r\n",
      "-rw-r--r--   2 lngo hdfs-user     859311 2017-03-15 09:49 /repository/movielens/links.csv\r\n",
      "-rw-r--r--   2 lngo hdfs-user    2007982 2017-03-15 09:49 /repository/movielens/movies.csv\r\n",
      "-rw-r--r--   2 lngo hdfs-user  663420664 2017-03-15 09:49 /repository/movielens/ratings.csv\r\n",
      "-rw-r--r--   2 lngo hdfs-user   24032991 2017-03-15 09:49 /repository/movielens/tags.csv\r\n"
     ]
    }
   ],
   "source": [
    "!hdfs dfs -ls /repository/movielens"
   ]
  },
  {
   "cell_type": "code",
   "execution_count": 30,
   "metadata": {},
   "outputs": [
    {
     "name": "stdout",
     "output_type": "stream",
     "text": [
      "Summary\r\n",
      "=======\r\n",
      "\r\n",
      "This dataset (ml-latest) describes 5-star rating and free-text tagging activity from [MovieLens](http://movielens.org), a movie recommendation service. It contains 24404096 ratings and 668953 tag applications across 40110 movies. These data were created by 259137 users between January 09, 1995 and October 17, 2016. This dataset was generated on October 18, 2016.\r\n",
      "\r\n",
      "Users were selected at random for inclusion. All selected users had rated at least 1 movies. No demographic information is included. Each user is represented by an id, and no other information is provided.\r\n",
      "\r\n",
      "The data are contained in the files `genome-scores.csv`, `genome-tags.csv`, `links.csv`, `movies.csv`, `ratings.csv` and `tags.csv`. More details about the contents and use of all these files follows.\r\n",
      "\r\n",
      "This is a *development* dataset. As such, it may change over time and is not an appropriate dataset for shared research results. See available *benchmark* datasets if that is your intent.\r\n",
      "\r\n",
      "This and other GroupLens data sets are publicly available for download at <http://grouplens.org/datasets/>.\r\n",
      "\r\n",
      "\r\n",
      "Usage License\r\n",
      "=============\r\n",
      "\r\n",
      "Neither the University of Minnesota nor any of the researchers involved can guarantee the correctness of the data, its suitability for any particular purpose, or the validity of results based on the use of the data set. The data set may be used for any research purposes under the following conditions:\r\n",
      "\r\n",
      "* The user may not state or imply any endorsement from the University of Minnesota or the GroupLens Research Group.\r\n",
      "* The user must acknowledge the use of the data set in publications resulting from the use of the data set (see below for citation information).\r\n",
      "* The user may not redistribute the data without separate permission.\r\n",
      "* The user may not use this information for any commercial or revenue-bearing purposes without first obtaining permission from a faculty member of the GroupLens Research Project at the University of Minnesota.\r\n",
      "* The executable software scripts are provided \"as is\" without warranty of any kind, either expressed or implied, including, but not limited to, the implied warranties of merchantability and fitness for a particular purpose. The entire risk as to the quality and performance of them is with you. Should the program prove defective, you assume the cost of all necessary servicing, repair or correction.\r\n",
      "\r\n",
      "In no event shall the University of Minnesota, its affiliates or employees be liable to you for any damages arising out of the use or inability to use these programs (including but not limited to loss of data or data being rendered inaccurate).\r\n",
      "\r\n",
      "If you have any further questions or comments, please email <grouplens-info@umn.edu>\r\n",
      "\r\n",
      "\r\n",
      "Citation\r\n",
      "========\r\n",
      "\r\n",
      "To acknowledge use of the dataset in publications, please cite the following paper:\r\n",
      "\r\n",
      "> F. Maxwell Harper and Joseph A. Konstan. 2015. The MovieLens Datasets: History and Context. ACM Transactions on Interactive Intelligent Systems (TiiS) 5, 4, Article 19 (December 2015), 19 pages. DOI=<http://dx.doi.org/10.1145/2827872>\r\n",
      "\r\n",
      "\r\n",
      "Further Information About GroupLens\r\n",
      "===================================\r\n",
      "\r\n",
      "GroupLens is a research group in the Department of Computer Science and Engineering at the University of Minnesota. Since its inception in 1992, GroupLens's research projects have explored a variety of fields including:\r\n",
      "\r\n",
      "* recommender systems\r\n",
      "* online communities\r\n",
      "* mobile and ubiquitious technologies\r\n",
      "* digital libraries\r\n",
      "* local geographic information systems\r\n",
      "\r\n",
      "GroupLens Research operates a movie recommender based on collaborative filtering, MovieLens, which is the source of these data. We encourage you to visit <http://movielens.org> to try it out! If you have exciting ideas for experimental work to conduct on MovieLens, send us an email at <grouplens-info@cs.umn.edu> - we are always interested in working with external collaborators.\r\n",
      "\r\n",
      "\r\n",
      "Content and Use of Files\r\n",
      "========================\r\n",
      "\r\n",
      "Formatting and Encoding\r\n",
      "-----------------------\r\n",
      "\r\n",
      "The dataset files are written as [comma-separated values](http://en.wikipedia.org/wiki/Comma-separated_values) files with a single header row. Columns that contain commas (`,`) are escaped using double-quotes (`\"`). These files are encoded as UTF-8. If accented characters in movie titles or tag values (e.g. Misérables, Les (1995)) display incorrectly, make sure that any program reading the data, such as a text editor, terminal, or script, is configured for UTF-8.\r\n",
      "\r\n",
      "User Ids\r\n",
      "--------\r\n",
      "\r\n",
      "MovieLens users were selected at random for inclusion. Their ids have been anonymized. User ids are consistent between `ratings.csv` and `tags.csv` (i.e., the same id refers to the same user across the two files).\r\n",
      "\r\n",
      "Movie Ids\r\n",
      "---------\r\n",
      "\r\n",
      "Only movies with at least one rating or tag are included in the dataset. These movie ids are consistent with those used on the MovieLens web site (e.g., id `1` corresponds to the URL <https://movielens.org/movies/1>). Movie ids are consistent between `ratings.csv`, `tags.csv`, `movies.csv`, and `links.csv` (i.e., the same id refers to the same movie across these four data files).\r\n",
      "\r\n",
      "\r\n",
      "Ratings Data File Structure (ratings.csv)\r\n",
      "-----------------------------------------\r\n",
      "\r\n",
      "All ratings are contained in the file `ratings.csv`. Each line of this file after the header row represents one rating of one movie by one user, and has the following format:\r\n",
      "\r\n",
      "    userId,movieId,rating,timestamp\r\n",
      "\r\n",
      "The lines within this file are ordered first by userId, then, within user, by movieId.\r\n",
      "\r\n",
      "Ratings are made on a 5-star scale, with half-star increments (0.5 stars - 5.0 stars).\r\n",
      "\r\n",
      "Timestamps represent seconds since midnight Coordinated Universal Time (UTC) of January 1, 1970.\r\n",
      "\r\n",
      "Tags Data File Structure (tags.csv)\r\n",
      "-----------------------------------\r\n",
      "\r\n",
      "All tags are contained in the file `tags.csv`. Each line of this file after the header row represents one tag applied to one movie by one user, and has the following format:\r\n",
      "\r\n",
      "    userId,movieId,tag,timestamp\r\n",
      "\r\n",
      "The lines within this file are ordered first by userId, then, within user, by movieId.\r\n",
      "\r\n",
      "Tags are user-generated metadata about movies. Each tag is typically a single word or short phrase. The meaning, value, and purpose of a particular tag is determined by each user.\r\n",
      "\r\n",
      "Timestamps represent seconds since midnight Coordinated Universal Time (UTC) of January 1, 1970.\r\n",
      "\r\n",
      "Movies Data File Structure (movies.csv)\r\n",
      "---------------------------------------\r\n",
      "\r\n",
      "Movie information is contained in the file `movies.csv`. Each line of this file after the header row represents one movie, and has the following format:\r\n",
      "\r\n",
      "    movieId,title,genres\r\n",
      "\r\n",
      "Movie titles are entered manually or imported from <https://www.themoviedb.org/>, and include the year of release in parentheses. Errors and inconsistencies may exist in these titles.\r\n",
      "\r\n",
      "Genres are a pipe-separated list, and are selected from the following:\r\n",
      "\r\n",
      "* Action\r\n",
      "* Adventure\r\n",
      "* Animation\r\n",
      "* Children's\r\n",
      "* Comedy\r\n",
      "* Crime\r\n",
      "* Documentary\r\n",
      "* Drama\r\n",
      "* Fantasy\r\n",
      "* Film-Noir\r\n",
      "* Horror\r\n",
      "* Musical\r\n",
      "* Mystery\r\n",
      "* Romance\r\n",
      "* Sci-Fi\r\n",
      "* Thriller\r\n",
      "* War\r\n",
      "* Western\r\n",
      "* (no genres listed)\r\n",
      "\r\n",
      "Links Data File Structure (links.csv)\r\n",
      "---------------------------------------\r\n",
      "\r\n",
      "Identifiers that can be used to link to other sources of movie data are contained in the file `links.csv`. Each line of this file after the header row represents one movie, and has the following format:\r\n",
      "\r\n",
      "    movieId,imdbId,tmdbId\r\n",
      "\r\n",
      "movieId is an identifier for movies used by <https://movielens.org>. E.g., the movie Toy Story has the link <https://movielens.org/movies/1>.\r\n",
      "\r\n",
      "imdbId is an identifier for movies used by <http://www.imdb.com>. E.g., the movie Toy Story has the link <http://www.imdb.com/title/tt0114709/>.\r\n",
      "\r\n",
      "tmdbId is an identifier for movies used by <https://www.themoviedb.org>. E.g., the movie Toy Story has the link <https://www.themoviedb.org/movie/862>.\r\n",
      "\r\n",
      "Use of the resources listed above is subject to the terms of each provider.\r\n",
      "\r\n",
      "Tag Genome (genome-scores.csv and genome-tags.csv)\r\n",
      "-------------------------------------------------\r\n",
      "\r\n",
      "This data set includes a current copy of the Tag Genome.\r\n",
      "\r\n",
      "[genome-paper]: http://files.grouplens.org/papers/tag_genome.pdf\r\n",
      "\r\n",
      "The tag genome is a data structure that contains tag relevance scores for movies.  The structure is a dense matrix: each movie in the genome has a value for *every* tag in the genome.\r\n",
      "\r\n",
      "As described in [this article][genome-paper], the tag genome encodes how strongly movies exhibit particular properties represented by tags (atmospheric, thought-provoking, realistic, etc.). The tag genome was computed using a machine learning algorithm on user-contributed content including tags, ratings, and textual reviews.\r\n",
      "\r\n",
      "The genome is split into two files.  The file `genome-scores.csv` contains movie-tag relevance data in the following format:\r\n",
      "\r\n",
      "    movieId,tagId,relevance\r\n",
      "\r\n",
      "The second file, `genome-tags.csv`, provides the tag descriptions for the tag IDs in the genome file, in the following format:\r\n",
      "\r\n",
      "    tagId,tag\r\n",
      "\r\n",
      "The `tagId` values are generated when the data set is exported, so they may vary from version to version of the MovieLens data sets.\r\n",
      "\r\n",
      "Cross-Validation\r\n",
      "----------------\r\n",
      "\r\n",
      "Prior versions of the MovieLens dataset included either pre-computed cross-folds or scripts to perform this computation. We no longer bundle either of these features with the dataset, since most modern toolkits provide this as a built-in feature. If you wish to learn about standard approaches to cross-fold computation in the context of recommender systems evaluation, see [LensKit](http://lenskit.org) for tools, documentation, and open-source code examples.\r\n"
     ]
    }
   ],
   "source": [
    "!hdfs dfs -cat  /repository/movielens/README.txt"
   ]
  },
  {
   "cell_type": "code",
   "execution_count": 31,
   "metadata": {},
   "outputs": [
    {
     "name": "stdout",
     "output_type": "stream",
     "text": [
      "movieId,imdbId,tmdbId\r",
      "\r\n",
      "1,0114709,862\r",
      "\r\n",
      "2,0113497,8844\r",
      "\r\n",
      "3,0113228,15602\r",
      "\r\n",
      "4,0114885,31357\r",
      "\r\n"
     ]
    }
   ],
   "source": [
    "!hdfs dfs -cat  /repository/movielens/links.csv \\\n",
    "    2>/dev/null | head -n 5"
   ]
  },
  {
   "cell_type": "code",
   "execution_count": 32,
   "metadata": {},
   "outputs": [
    {
     "name": "stdout",
     "output_type": "stream",
     "text": [
      "movieId,title,genres\r",
      "\r\n",
      "1,Toy Story (1995),Adventure|Animation|Children|Comedy|Fantasy\r",
      "\r\n",
      "2,Jumanji (1995),Adventure|Children|Fantasy\r",
      "\r\n",
      "3,Grumpier Old Men (1995),Comedy|Romance\r",
      "\r\n",
      "4,Waiting to Exhale (1995),Comedy|Drama|Romance\r",
      "\r\n"
     ]
    }
   ],
   "source": [
    "!hdfs dfs -cat  /repository/movielens/movies.csv \\\n",
    "    2>/dev/null | head -n 5"
   ]
  },
  {
   "cell_type": "code",
   "execution_count": 33,
   "metadata": {},
   "outputs": [
    {
     "name": "stdout",
     "output_type": "stream",
     "text": [
      "userId,movieId,rating,timestamp\r",
      "\r\n",
      "1,122,2.0,945544824\r",
      "\r\n",
      "1,172,1.0,945544871\r",
      "\r\n",
      "1,1221,5.0,945544788\r",
      "\r\n",
      "1,1441,4.0,945544871\r",
      "\r\n"
     ]
    }
   ],
   "source": [
    "!hdfs dfs -cat  /repository/movielens/ratings.csv \\\n",
    "    2>/dev/null | head -n 5"
   ]
  },
  {
   "cell_type": "code",
   "execution_count": 34,
   "metadata": {},
   "outputs": [
    {
     "name": "stdout",
     "output_type": "stream",
     "text": [
      "userId,movieId,tag,timestamp\r",
      "\r\n",
      "28,63062,angelina jolie,1263047558\r",
      "\r\n",
      "40,4973,Poetic,1436439070\r",
      "\r\n",
      "40,117533,privacy,1436439140\r",
      "\r\n",
      "57,356,life positive,1291771526\r",
      "\r\n"
     ]
    }
   ],
   "source": [
    "!hdfs dfs -cat  /repository/movielens/tags.csv \\\n",
    "    2>/dev/null | head -n 5"
   ]
  },
  {
   "cell_type": "code",
   "execution_count": 38,
   "metadata": {
    "collapsed": true,
    "scrolled": true
   },
   "outputs": [],
   "source": [
    "ratings = sc.textFile(\"/repository/movielens/ratings.csv\")"
   ]
  },
  {
   "cell_type": "code",
   "execution_count": 39,
   "metadata": {},
   "outputs": [
    {
     "data": {
      "text/plain": [
       "/repository/movielens/ratings.csv MapPartitionsRDD[33] at textFile at NativeMethodAccessorImpl.java:0"
      ]
     },
     "execution_count": 39,
     "metadata": {},
     "output_type": "execute_result"
    }
   ],
   "source": [
    "ratings.cache()"
   ]
  },
  {
   "cell_type": "code",
   "execution_count": 40,
   "metadata": {},
   "outputs": [
    {
     "name": "stdout",
     "output_type": "stream",
     "text": [
      "CPU times: user 10.1 ms, sys: 4.38 ms, total: 14.5 ms\n",
      "Wall time: 13.2 s\n"
     ]
    },
    {
     "data": {
      "text/plain": [
       "24404097"
      ]
     },
     "execution_count": 40,
     "metadata": {},
     "output_type": "execute_result"
    }
   ],
   "source": [
    "%%time\n",
    "ratings.count()"
   ]
  },
  {
   "cell_type": "code",
   "execution_count": 43,
   "metadata": {},
   "outputs": [
    {
     "name": "stdout",
     "output_type": "stream",
     "text": [
      "CPU times: user 9 ms, sys: 4 ms, total: 13 ms\n",
      "Wall time: 2.99 s\n"
     ]
    },
    {
     "data": {
      "text/plain": [
       "24404097"
      ]
     },
     "execution_count": 43,
     "metadata": {},
     "output_type": "execute_result"
    }
   ],
   "source": [
    "%%time\n",
    "ratings.count()"
   ]
  },
  {
   "cell_type": "code",
   "execution_count": 55,
   "metadata": {},
   "outputs": [
    {
     "name": "stdout",
     "output_type": "stream",
     "text": [
      "CPU times: user 9 ms, sys: 3 ms, total: 12 ms\n",
      "Wall time: 3.05 s\n"
     ]
    },
    {
     "data": {
      "text/plain": [
       "24404097"
      ]
     },
     "execution_count": 55,
     "metadata": {},
     "output_type": "execute_result"
    }
   ],
   "source": [
    "%%time\n",
    "ratings.count()"
   ]
  },
  {
   "cell_type": "markdown",
   "metadata": {},
   "source": [
    "### 4.1 Find movies which have the highest average ratings over the years and identify the corresponding genre\n",
    "\n",
    "- Find the average ratings of all movies over the years\n",
    "- Identify the corresponding genres for each movie"
   ]
  },
  {
   "cell_type": "code",
   "execution_count": 45,
   "metadata": {},
   "outputs": [
    {
     "data": {
      "text/plain": [
       "['userId,movieId,rating,timestamp',\n",
       " '1,122,2.0,945544824',\n",
       " '1,172,1.0,945544871',\n",
       " '1,1221,5.0,945544788',\n",
       " '1,1441,4.0,945544871']"
      ]
     },
     "execution_count": 45,
     "metadata": {},
     "output_type": "execute_result"
    }
   ],
   "source": [
    "ratings.take(5)"
   ]
  },
  {
   "cell_type": "code",
   "execution_count": 46,
   "metadata": {},
   "outputs": [
    {
     "name": "stdout",
     "output_type": "stream",
     "text": [
      "userId,movieId,rating,timestamp\n"
     ]
    }
   ],
   "source": [
    "ratingHeader = ratings.first() #extract header\n",
    "print(ratingHeader)"
   ]
  },
  {
   "cell_type": "code",
   "execution_count": 47,
   "metadata": {
    "collapsed": true
   },
   "outputs": [],
   "source": [
    "ratingsOnly = ratings.filter(lambda x:x != ratingHeader)"
   ]
  },
  {
   "cell_type": "code",
   "execution_count": 48,
   "metadata": {},
   "outputs": [
    {
     "data": {
      "text/plain": [
       "['1,122,2.0,945544824',\n",
       " '1,172,1.0,945544871',\n",
       " '1,1221,5.0,945544788',\n",
       " '1,1441,4.0,945544871',\n",
       " '1,1609,3.0,945544824']"
      ]
     },
     "execution_count": 48,
     "metadata": {},
     "output_type": "execute_result"
    }
   ],
   "source": [
    "ratingsOnly.take(5)"
   ]
  },
  {
   "cell_type": "code",
   "execution_count": 49,
   "metadata": {
    "collapsed": true
   },
   "outputs": [],
   "source": [
    "movieRatings = ratingsOnly.map(lambda line: (line.split(\",\")[1], float(line.split(\",\")[2])))"
   ]
  },
  {
   "cell_type": "code",
   "execution_count": 50,
   "metadata": {},
   "outputs": [
    {
     "data": {
      "text/plain": [
       "[('122', 2.0), ('172', 1.0), ('1221', 5.0), ('1441', 4.0), ('1609', 3.0)]"
      ]
     },
     "execution_count": 50,
     "metadata": {},
     "output_type": "execute_result"
    }
   ],
   "source": [
    "movieRatings.take(5)"
   ]
  },
  {
   "cell_type": "markdown",
   "metadata": {},
   "source": [
    "**Possible approaches in aggregating data:** \n",
    "- groupByKey and mapValues\n",
    "- reduceByKey and countByKey"
   ]
  },
  {
   "cell_type": "markdown",
   "metadata": {},
   "source": [
    "**groupByKey and mapValues**"
   ]
  },
  {
   "cell_type": "code",
   "execution_count": 51,
   "metadata": {},
   "outputs": [
    {
     "data": {
      "text/plain": [
       "[('154214', <pyspark.resultiterable.ResultIterable at 0x2ba1e24ad588>),\n",
       " ('27479', <pyspark.resultiterable.ResultIterable at 0x2ba1e24ad710>),\n",
       " ('129667', <pyspark.resultiterable.ResultIterable at 0x2ba1e24adf28>),\n",
       " ('140054', <pyspark.resultiterable.ResultIterable at 0x2ba1e24ad780>),\n",
       " ('45183', <pyspark.resultiterable.ResultIterable at 0x2ba1e24ade10>)]"
      ]
     },
     "execution_count": 51,
     "metadata": {},
     "output_type": "execute_result"
    }
   ],
   "source": [
    "groupByKeyRatings = movieRatings.groupByKey()\n",
    "\n",
    "groupByKeyRatings.take(5)"
   ]
  },
  {
   "cell_type": "code",
   "execution_count": 52,
   "metadata": {
    "scrolled": true
   },
   "outputs": [
    {
     "data": {
      "text/plain": [
       "[('154214', [3.5, 0.5, 2.0]),\n",
       " ('27479', [4.0, 1.5, 1.0]),\n",
       " ('129667', [5.0, 5.0, 2.0, 3.0]),\n",
       " ('140054', [3.5, 2.0, 4.0]),\n",
       " ('45183',\n",
       "  [3.0,\n",
       "   1.5,\n",
       "   3.5,\n",
       "   3.0,\n",
       "   3.0,\n",
       "   2.0,\n",
       "   3.5,\n",
       "   2.0,\n",
       "   1.5,\n",
       "   3.5,\n",
       "   4.0,\n",
       "   4.0,\n",
       "   3.5,\n",
       "   5.0,\n",
       "   3.5,\n",
       "   4.0,\n",
       "   0.5,\n",
       "   2.0,\n",
       "   4.5,\n",
       "   5.0,\n",
       "   2.0,\n",
       "   4.0,\n",
       "   4.5,\n",
       "   4.0,\n",
       "   5.0,\n",
       "   3.5,\n",
       "   2.0,\n",
       "   3.5,\n",
       "   4.5,\n",
       "   3.5,\n",
       "   0.5,\n",
       "   5.0,\n",
       "   4.5,\n",
       "   3.0,\n",
       "   3.5,\n",
       "   3.5,\n",
       "   4.5,\n",
       "   3.5,\n",
       "   4.5,\n",
       "   4.5,\n",
       "   4.5,\n",
       "   3.5,\n",
       "   5.0,\n",
       "   0.5,\n",
       "   4.0,\n",
       "   4.0,\n",
       "   2.5,\n",
       "   2.5,\n",
       "   2.0,\n",
       "   3.0,\n",
       "   4.5,\n",
       "   3.5,\n",
       "   2.5,\n",
       "   4.0,\n",
       "   3.5,\n",
       "   4.0,\n",
       "   3.0,\n",
       "   2.5,\n",
       "   4.0,\n",
       "   4.5,\n",
       "   4.5,\n",
       "   4.5,\n",
       "   4.5,\n",
       "   4.5,\n",
       "   4.0,\n",
       "   3.5,\n",
       "   3.0,\n",
       "   2.5,\n",
       "   3.5,\n",
       "   4.5,\n",
       "   2.5,\n",
       "   5.0,\n",
       "   3.5,\n",
       "   3.5,\n",
       "   3.0,\n",
       "   2.5,\n",
       "   3.0,\n",
       "   4.5,\n",
       "   2.0,\n",
       "   4.0,\n",
       "   3.5,\n",
       "   3.5,\n",
       "   3.0,\n",
       "   3.5,\n",
       "   3.5,\n",
       "   5.0,\n",
       "   4.5,\n",
       "   3.0,\n",
       "   3.5,\n",
       "   3.0,\n",
       "   3.0,\n",
       "   3.5,\n",
       "   5.0,\n",
       "   5.0,\n",
       "   4.5,\n",
       "   3.5,\n",
       "   4.0,\n",
       "   2.0,\n",
       "   4.5,\n",
       "   3.0,\n",
       "   5.0,\n",
       "   4.0,\n",
       "   3.0,\n",
       "   4.5,\n",
       "   2.5,\n",
       "   4.0,\n",
       "   2.0,\n",
       "   4.0,\n",
       "   4.0,\n",
       "   2.5,\n",
       "   1.0,\n",
       "   3.0,\n",
       "   3.0,\n",
       "   3.5,\n",
       "   5.0,\n",
       "   3.5,\n",
       "   4.0,\n",
       "   3.0,\n",
       "   4.0,\n",
       "   4.5,\n",
       "   4.0,\n",
       "   5.0,\n",
       "   4.0,\n",
       "   3.5,\n",
       "   3.0,\n",
       "   3.0,\n",
       "   4.5,\n",
       "   5.0,\n",
       "   5.0,\n",
       "   3.5,\n",
       "   4.0,\n",
       "   3.5,\n",
       "   2.0,\n",
       "   2.0,\n",
       "   2.5,\n",
       "   3.5,\n",
       "   3.0,\n",
       "   2.0,\n",
       "   5.0,\n",
       "   4.0,\n",
       "   4.0,\n",
       "   3.5,\n",
       "   3.5,\n",
       "   3.5,\n",
       "   5.0,\n",
       "   4.5,\n",
       "   3.5,\n",
       "   4.0,\n",
       "   3.0,\n",
       "   3.5,\n",
       "   4.5,\n",
       "   3.5,\n",
       "   5.0,\n",
       "   4.5,\n",
       "   3.0,\n",
       "   2.0,\n",
       "   4.0,\n",
       "   3.0,\n",
       "   1.0,\n",
       "   3.5,\n",
       "   4.0,\n",
       "   5.0,\n",
       "   3.5,\n",
       "   4.0,\n",
       "   3.0,\n",
       "   3.5,\n",
       "   3.0,\n",
       "   3.5,\n",
       "   4.0,\n",
       "   4.5,\n",
       "   4.5,\n",
       "   4.0,\n",
       "   2.5,\n",
       "   4.0,\n",
       "   3.0,\n",
       "   3.0,\n",
       "   3.5,\n",
       "   4.0,\n",
       "   3.0,\n",
       "   4.0,\n",
       "   4.0,\n",
       "   4.0,\n",
       "   3.0,\n",
       "   4.0,\n",
       "   4.5,\n",
       "   3.0,\n",
       "   1.0,\n",
       "   4.0,\n",
       "   3.0,\n",
       "   1.0,\n",
       "   4.0,\n",
       "   4.0,\n",
       "   2.0,\n",
       "   4.0,\n",
       "   1.5,\n",
       "   3.5,\n",
       "   3.0,\n",
       "   4.5,\n",
       "   4.0,\n",
       "   1.0,\n",
       "   2.5,\n",
       "   4.5,\n",
       "   4.0,\n",
       "   3.0,\n",
       "   2.5,\n",
       "   3.0,\n",
       "   3.5,\n",
       "   3.0,\n",
       "   3.5,\n",
       "   3.5,\n",
       "   2.5,\n",
       "   3.0,\n",
       "   4.0,\n",
       "   3.5,\n",
       "   4.0,\n",
       "   4.0,\n",
       "   0.5,\n",
       "   3.5,\n",
       "   3.0,\n",
       "   4.0,\n",
       "   5.0,\n",
       "   3.0,\n",
       "   3.0,\n",
       "   3.5,\n",
       "   2.0,\n",
       "   4.5,\n",
       "   3.5,\n",
       "   4.5,\n",
       "   4.5,\n",
       "   3.5,\n",
       "   4.5,\n",
       "   4.5,\n",
       "   4.0,\n",
       "   2.0,\n",
       "   4.0,\n",
       "   4.5,\n",
       "   4.0,\n",
       "   4.5,\n",
       "   4.0,\n",
       "   2.5,\n",
       "   4.0,\n",
       "   4.5,\n",
       "   3.0,\n",
       "   3.5,\n",
       "   3.0,\n",
       "   1.0,\n",
       "   5.0,\n",
       "   4.5,\n",
       "   2.0,\n",
       "   4.0,\n",
       "   5.0,\n",
       "   2.0,\n",
       "   3.5,\n",
       "   3.5,\n",
       "   3.0,\n",
       "   2.5,\n",
       "   4.5,\n",
       "   4.0,\n",
       "   3.5,\n",
       "   4.0,\n",
       "   0.5,\n",
       "   3.5,\n",
       "   4.0,\n",
       "   4.0,\n",
       "   3.5,\n",
       "   1.5,\n",
       "   4.0,\n",
       "   4.5,\n",
       "   4.0,\n",
       "   3.5,\n",
       "   4.0,\n",
       "   3.5,\n",
       "   3.5,\n",
       "   3.5,\n",
       "   4.0,\n",
       "   3.5,\n",
       "   3.0,\n",
       "   4.5,\n",
       "   3.5,\n",
       "   2.5,\n",
       "   3.5,\n",
       "   4.0,\n",
       "   4.0,\n",
       "   5.0,\n",
       "   4.0,\n",
       "   3.0,\n",
       "   3.0,\n",
       "   3.5,\n",
       "   4.0,\n",
       "   3.5,\n",
       "   3.5,\n",
       "   2.0,\n",
       "   3.5,\n",
       "   2.5,\n",
       "   2.0,\n",
       "   4.0,\n",
       "   2.5,\n",
       "   4.5,\n",
       "   3.0,\n",
       "   3.5,\n",
       "   4.0,\n",
       "   4.0,\n",
       "   3.5,\n",
       "   5.0,\n",
       "   0.5,\n",
       "   4.0,\n",
       "   3.5,\n",
       "   2.5,\n",
       "   4.0,\n",
       "   0.5,\n",
       "   3.5,\n",
       "   5.0,\n",
       "   5.0,\n",
       "   1.5,\n",
       "   4.0,\n",
       "   3.5,\n",
       "   2.0,\n",
       "   5.0,\n",
       "   1.5,\n",
       "   3.5,\n",
       "   5.0,\n",
       "   4.0,\n",
       "   3.5,\n",
       "   3.0,\n",
       "   2.0,\n",
       "   3.5,\n",
       "   4.0,\n",
       "   4.5,\n",
       "   4.5,\n",
       "   3.0,\n",
       "   4.5,\n",
       "   3.0,\n",
       "   2.0,\n",
       "   5.0,\n",
       "   3.5,\n",
       "   4.0,\n",
       "   3.0,\n",
       "   4.0,\n",
       "   3.5,\n",
       "   5.0,\n",
       "   3.5,\n",
       "   4.0,\n",
       "   3.5,\n",
       "   4.5,\n",
       "   4.0,\n",
       "   4.0,\n",
       "   4.5,\n",
       "   5.0,\n",
       "   4.5,\n",
       "   3.5,\n",
       "   3.5,\n",
       "   3.0,\n",
       "   4.0,\n",
       "   3.5,\n",
       "   3.0,\n",
       "   5.0,\n",
       "   3.5,\n",
       "   4.0,\n",
       "   4.5,\n",
       "   4.0,\n",
       "   3.0,\n",
       "   3.0,\n",
       "   4.0,\n",
       "   4.0,\n",
       "   2.5,\n",
       "   3.5,\n",
       "   3.5,\n",
       "   4.5,\n",
       "   3.5,\n",
       "   4.0,\n",
       "   4.5,\n",
       "   3.5,\n",
       "   4.0,\n",
       "   3.0,\n",
       "   5.0,\n",
       "   3.5,\n",
       "   5.0,\n",
       "   5.0,\n",
       "   4.0,\n",
       "   4.0,\n",
       "   4.0,\n",
       "   4.0,\n",
       "   5.0,\n",
       "   3.0,\n",
       "   3.0,\n",
       "   5.0,\n",
       "   3.5,\n",
       "   4.5,\n",
       "   3.0,\n",
       "   3.0,\n",
       "   3.5,\n",
       "   4.0,\n",
       "   4.0,\n",
       "   2.0,\n",
       "   4.0,\n",
       "   5.0,\n",
       "   4.0,\n",
       "   4.0,\n",
       "   5.0,\n",
       "   3.5,\n",
       "   5.0,\n",
       "   3.0,\n",
       "   3.0,\n",
       "   4.0,\n",
       "   3.5,\n",
       "   0.5,\n",
       "   5.0,\n",
       "   4.0,\n",
       "   2.5,\n",
       "   3.5,\n",
       "   3.5,\n",
       "   3.0,\n",
       "   3.5,\n",
       "   2.5,\n",
       "   3.0,\n",
       "   2.5,\n",
       "   2.5,\n",
       "   4.0,\n",
       "   4.0,\n",
       "   4.5,\n",
       "   4.0,\n",
       "   5.0])]"
      ]
     },
     "execution_count": 52,
     "metadata": {},
     "output_type": "execute_result"
    }
   ],
   "source": [
    "mapValuesToListRatings = groupByKeyRatings.mapValues(list)\n",
    "mapValuesToListRatings.take(5)"
   ]
  },
  {
   "cell_type": "code",
   "execution_count": 53,
   "metadata": {},
   "outputs": [
    {
     "data": {
      "text/plain": [
       "[('154214', 2.0),\n",
       " ('27479', 2.1666666666666665),\n",
       " ('129667', 3.75),\n",
       " ('140054', 3.1666666666666665),\n",
       " ('45183', 3.5485781990521326)]"
      ]
     },
     "execution_count": 53,
     "metadata": {},
     "output_type": "execute_result"
    }
   ],
   "source": [
    "avgRatings01 = mapValuesToListRatings.mapValues(lambda V: sum(V) / float(len(V)))\n",
    "\n",
    "avgRatings01.take(5)"
   ]
  },
  {
   "cell_type": "markdown",
   "metadata": {},
   "source": [
    "Is this correct?"
   ]
  },
  {
   "cell_type": "code",
   "execution_count": null,
   "metadata": {
    "collapsed": true
   },
   "outputs": [],
   "source": [
    "(3.5 + 3.5 + 2.5 + 3.5 + 2.0 + 3.5 + 2.5 + 3.0) / 8"
   ]
  },
  {
   "cell_type": "markdown",
   "metadata": {},
   "source": [
    "**reduceByKey and countByKey**"
   ]
  },
  {
   "cell_type": "code",
   "execution_count": null,
   "metadata": {
    "collapsed": true,
    "scrolled": true
   },
   "outputs": [],
   "source": [
    "countsByKey = movieRatings.countByKey()\n",
    "\n",
    "countsByKey"
   ]
  },
  {
   "cell_type": "code",
   "execution_count": null,
   "metadata": {
    "collapsed": true
   },
   "outputs": [],
   "source": [
    "def sumValues(x,y):\n",
    "    return (x + y)\n",
    "\n",
    "sumRatings = movieRatings.reduceByKey(sumValues)\n",
    "\n",
    "sumRatings.take(5)"
   ]
  },
  {
   "cell_type": "code",
   "execution_count": null,
   "metadata": {
    "collapsed": true
   },
   "outputs": [],
   "source": [
    "import operator\n",
    "\n",
    "sumRatings = movieRatings.reduceByKey(operator.add)\n",
    "sumRatings.take(5)"
   ]
  },
  {
   "cell_type": "code",
   "execution_count": null,
   "metadata": {
    "collapsed": true
   },
   "outputs": [],
   "source": [
    "avgRatings02 = sumRatings.map(lambda x: (x[0], x[1] / countsByKey.get(x[0])))\n",
    "\n",
    "avgRatings02.take(5)"
   ]
  },
  {
   "cell_type": "markdown",
   "metadata": {},
   "source": [
    "How do we augment movie ratings data with title informations?"
   ]
  },
  {
   "cell_type": "code",
   "execution_count": 54,
   "metadata": {
    "collapsed": true
   },
   "outputs": [],
   "source": [
    "movies = sc.textFile(\"movielens/movies.csv\")"
   ]
  },
  {
   "cell_type": "code",
   "execution_count": 57,
   "metadata": {},
   "outputs": [
    {
     "name": "stdout",
     "output_type": "stream",
     "text": [
      "movieId,title,genres\n"
     ]
    }
   ],
   "source": [
    "movieHeader = movies.first() #extract header\n",
    "print(movieHeader)"
   ]
  },
  {
   "cell_type": "code",
   "execution_count": 58,
   "metadata": {},
   "outputs": [
    {
     "data": {
      "text/plain": [
       "['1,Toy Story (1995),Adventure|Animation|Children|Comedy|Fantasy',\n",
       " '2,Jumanji (1995),Adventure|Children|Fantasy',\n",
       " '3,Grumpier Old Men (1995),Comedy|Romance',\n",
       " '4,Waiting to Exhale (1995),Comedy|Drama|Romance',\n",
       " '5,Father of the Bride Part II (1995),Comedy']"
      ]
     },
     "execution_count": 58,
     "metadata": {},
     "output_type": "execute_result"
    }
   ],
   "source": [
    "movies = movies.filter(lambda x:x != movieHeader)\n",
    "\n",
    "movies.take(5)"
   ]
  },
  {
   "cell_type": "code",
   "execution_count": 59,
   "metadata": {},
   "outputs": [
    {
     "data": {
      "text/plain": [
       "[('1', ('Toy Story (1995)', 'Adventure|Animation|Children|Comedy|Fantasy')),\n",
       " ('2', ('Jumanji (1995)', 'Adventure|Children|Fantasy')),\n",
       " ('3', ('Grumpier Old Men (1995)', 'Comedy|Romance')),\n",
       " ('4', ('Waiting to Exhale (1995)', 'Comedy|Drama|Romance')),\n",
       " ('5', ('Father of the Bride Part II (1995)', 'Comedy'))]"
      ]
     },
     "execution_count": 59,
     "metadata": {},
     "output_type": "execute_result"
    }
   ],
   "source": [
    "movieInfo = movies.map(lambda line: (line.split(\",\")[0], (line.split(\",\")[1], line.split(\",\")[2])))\n",
    "\n",
    "movieInfo.take(5)"
   ]
  },
  {
   "cell_type": "code",
   "execution_count": 60,
   "metadata": {},
   "outputs": [
    {
     "data": {
      "text/plain": [
       "[('1440', (2.776470588235294, ('Amos & Andrew (1993)', 'Comedy'))),\n",
       " ('106450', (4.25, ('Chicago Overcoat (2009)', 'Action|Drama'))),\n",
       " ('564', (2.3294797687861273, ('Chasers (1994)', 'Comedy'))),\n",
       " ('108318', (2.8088235294117645, ('\"Single Shot', ' A (2013)\"'))),\n",
       " ('150421', (3.0, ('Man on Horseback (1969)', '(no genres listed)')))]"
      ]
     },
     "execution_count": 60,
     "metadata": {},
     "output_type": "execute_result"
    }
   ],
   "source": [
    "augmentedRatings = avgRatings01.join(movieInfo)\n",
    "\n",
    "augmentedRatings.take(5)"
   ]
  },
  {
   "cell_type": "markdown",
   "metadata": {},
   "source": [
    "*Movie with highest average rating:*"
   ]
  },
  {
   "cell_type": "code",
   "execution_count": 61,
   "metadata": {},
   "outputs": [
    {
     "data": {
      "text/plain": [
       "[('120436', (5.0, ('Garbo Talks (1984)', 'Comedy|Drama'))),\n",
       " ('136874', (5.0, ('Natarang (2010)', '(no genres listed)'))),\n",
       " ('146946', (5.0, ('The Hardy Bucks Movie (2013)', 'Comedy'))),\n",
       " ('114353', (5.0, ('Heavyweights (Schwere Jungs) (2006)', 'Comedy'))),\n",
       " ('123727', (5.0, ('Immigration Tango (2011)', 'Comedy|Romance'))),\n",
       " ('164869', (5.0, ('A Cinderella Story: If the Shoe Fits (2016)', 'Comedy'))),\n",
       " ('159423',\n",
       "  (5.0,\n",
       "   ('Jonas Brothers: The Concert Experience (2009)', '(no genres listed)'))),\n",
       " ('133575', (5.0, ('Do Detectives Think? (1927)', 'Comedy'))),\n",
       " ('93967',\n",
       "  (5.0, ('\"Keeping the Promise (Sign of the Beaver', ' The) (1997)\"'))),\n",
       " ('160325', (5.0, ('I Love Hong Kong (2011)', 'Comedy')))]"
      ]
     },
     "execution_count": 61,
     "metadata": {},
     "output_type": "execute_result"
    }
   ],
   "source": [
    "augmentedRatings.takeOrdered(10, key = lambda x : -x[1][0])"
   ]
  },
  {
   "cell_type": "markdown",
   "metadata": {},
   "source": [
    "*Movie with lowest average rating:*"
   ]
  },
  {
   "cell_type": "code",
   "execution_count": 62,
   "metadata": {},
   "outputs": [
    {
     "data": {
      "text/plain": [
       "[('164927', (0.5, ('Where Souls Go (2007)', '(no genres listed)'))),\n",
       " ('156840', (0.5, ('Jurassic Attack (2012)', 'Action|Sci-Fi'))),\n",
       " ('138008', (0.5, ('New Year (2011)', '(no genres listed)'))),\n",
       " ('131152', (0.5, ('The Fat Spy (1966)', 'Comedy'))),\n",
       " ('109355', (0.5, ('13 Fighting Men (1960)', 'Western'))),\n",
       " ('127327', (0.5, ('Khan Kluay (2006)', 'Adventure|Animation|Children'))),\n",
       " ('160978', (0.5, ('Hellevator (2004)', 'Horror|Sci-Fi'))),\n",
       " ('145285', (0.5, ('Octopus (2000)', 'Action|Horror|Thriller'))),\n",
       " ('133541', (0.5, ('Two Hundred Thousand Dirty (2014)', 'Comedy'))),\n",
       " ('139717', (0.5, ('10 Cent Pistol (2015)', 'Crime|Thriller')))]"
      ]
     },
     "execution_count": 62,
     "metadata": {},
     "output_type": "execute_result"
    }
   ],
   "source": [
    "augmentedRatings.takeOrdered(10, key = lambda x : x[1][0])"
   ]
  },
  {
   "cell_type": "markdown",
   "metadata": {},
   "source": [
    "### Challenge\n",
    "\n",
    "- Augment the mapping process of WordCount with a function to filter out punctuations and capitalization from the unique words"
   ]
  },
  {
   "cell_type": "code",
   "execution_count": null,
   "metadata": {
    "collapsed": true
   },
   "outputs": [],
   "source": []
  },
  {
   "cell_type": "markdown",
   "metadata": {},
   "source": [
    "### Challenge:\n",
    "\n",
    "1. Make appropriate changes so that only movies with averaged ratings higher than 3.75 are collected\n",
    "2. Further enhance your modification so that only movies with averaged ratings higher than 3.75 and number of ratings of at least 1000 times are collected."
   ]
  },
  {
   "cell_type": "code",
   "execution_count": null,
   "metadata": {
    "collapsed": true
   },
   "outputs": [],
   "source": []
  },
  {
   "cell_type": "markdown",
   "metadata": {},
   "source": [
    "### 4.2 Find genres which have the highest average ratings over the years\n",
    "\n",
    "- Identify the genres associated with a movie and its rating\n",
    "- Each movie can have multiple genres. How to flip the Key/Value pair?"
   ]
  },
  {
   "cell_type": "code",
   "execution_count": 63,
   "metadata": {},
   "outputs": [
    {
     "data": {
      "text/plain": [
       "[('122', 2.0), ('172', 1.0), ('1221', 5.0), ('1441', 4.0), ('1609', 3.0)]"
      ]
     },
     "execution_count": 63,
     "metadata": {},
     "output_type": "execute_result"
    }
   ],
   "source": [
    "movieRatings.take(5)"
   ]
  },
  {
   "cell_type": "code",
   "execution_count": 64,
   "metadata": {},
   "outputs": [
    {
     "data": {
      "text/plain": [
       "[('1', ('Toy Story (1995)', 'Adventure|Animation|Children|Comedy|Fantasy')),\n",
       " ('2', ('Jumanji (1995)', 'Adventure|Children|Fantasy')),\n",
       " ('3', ('Grumpier Old Men (1995)', 'Comedy|Romance')),\n",
       " ('4', ('Waiting to Exhale (1995)', 'Comedy|Drama|Romance')),\n",
       " ('5', ('Father of the Bride Part II (1995)', 'Comedy'))]"
      ]
     },
     "execution_count": 64,
     "metadata": {},
     "output_type": "execute_result"
    }
   ],
   "source": [
    "movieInfo.take(5)"
   ]
  },
  {
   "cell_type": "code",
   "execution_count": 65,
   "metadata": {
    "collapsed": true
   },
   "outputs": [],
   "source": [
    "augmentedInfo = movieRatings.join(movieInfo)"
   ]
  },
  {
   "cell_type": "code",
   "execution_count": 66,
   "metadata": {},
   "outputs": [
    {
     "data": {
      "text/plain": [
       "[('1440', (3.0, ('Amos & Andrew (1993)', 'Comedy'))),\n",
       " ('1440', (2.0, ('Amos & Andrew (1993)', 'Comedy'))),\n",
       " ('1440', (3.0, ('Amos & Andrew (1993)', 'Comedy'))),\n",
       " ('1440', (5.0, ('Amos & Andrew (1993)', 'Comedy'))),\n",
       " ('1440', (3.0, ('Amos & Andrew (1993)', 'Comedy')))]"
      ]
     },
     "execution_count": 66,
     "metadata": {},
     "output_type": "execute_result"
    }
   ],
   "source": [
    "augmentedInfo.take(5)"
   ]
  },
  {
   "cell_type": "code",
   "execution_count": 67,
   "metadata": {},
   "outputs": [
    {
     "name": "stdout",
     "output_type": "stream",
     "text": [
      "[('Adventure', 3.0), ('Animation', 3.0), ('Children', 3.0), ('Comedy', 3.0), ('Fantasy', 3.0)]\n"
     ]
    }
   ],
   "source": [
    "def extractGenreRating (t):\n",
    "    final_tuples = []\n",
    "    genreList = t[1][1][1].split(\"|\")\n",
    "    for genre in genreList:\n",
    "        final_tuples.append((genre,t[1][0]))\n",
    "    return final_tuples\n",
    "\n",
    "print(extractGenreRating((u'1', (3.0, (u'Toy Story (1995)', u'Adventure|Animation|Children|Comedy|Fantasy')))))"
   ]
  },
  {
   "cell_type": "code",
   "execution_count": 68,
   "metadata": {
    "collapsed": true
   },
   "outputs": [],
   "source": [
    "genreRatings = augmentedInfo.flatMap(extractGenreRating)"
   ]
  },
  {
   "cell_type": "code",
   "execution_count": 69,
   "metadata": {},
   "outputs": [
    {
     "data": {
      "text/plain": [
       "[('Comedy', 3.0),\n",
       " ('Comedy', 2.0),\n",
       " ('Comedy', 3.0),\n",
       " ('Comedy', 5.0),\n",
       " ('Comedy', 3.0)]"
      ]
     },
     "execution_count": 69,
     "metadata": {},
     "output_type": "execute_result"
    }
   ],
   "source": [
    "genreRatings.take(5)"
   ]
  },
  {
   "cell_type": "markdown",
   "metadata": {},
   "source": [
    "### Challenge:\n",
    "\n",
    "Complete the remaining portion of task 2.2: Calculating the average rating of each genre over the years"
   ]
  },
  {
   "cell_type": "code",
   "execution_count": null,
   "metadata": {
    "collapsed": true
   },
   "outputs": [],
   "source": []
  },
  {
   "cell_type": "markdown",
   "metadata": {},
   "source": [
    "### 4.3 Find users who rate movies most frequently in order to contact them for in-depth marketing analysis"
   ]
  },
  {
   "cell_type": "markdown",
   "metadata": {},
   "source": [
    "- How do you define \"frequently\"?\n",
    "    - At least once per week?"
   ]
  },
  {
   "cell_type": "code",
   "execution_count": 70,
   "metadata": {
    "collapsed": true
   },
   "outputs": [],
   "source": [
    "userRatings = ratingsOnly.map(lambda line: (line.split(\",\")[0], float(line.split(\",\")[3])))"
   ]
  },
  {
   "cell_type": "code",
   "execution_count": 71,
   "metadata": {},
   "outputs": [
    {
     "data": {
      "text/plain": [
       "[('51313',\n",
       "  [847620176.0,\n",
       "   847620106.0,\n",
       "   847620374.0,\n",
       "   847620326.0,\n",
       "   847620411.0,\n",
       "   847620264.0,\n",
       "   847620347.0,\n",
       "   847619964.0,\n",
       "   847619965.0,\n",
       "   847620326.0,\n",
       "   847620233.0,\n",
       "   847620294.0,\n",
       "   847620021.0,\n",
       "   847620211.0,\n",
       "   847620021.0,\n",
       "   847620326.0,\n",
       "   847619878.0,\n",
       "   847620211.0,\n",
       "   847620264.0,\n",
       "   847620021.0,\n",
       "   847620374.0,\n",
       "   847620470.0,\n",
       "   847619923.0,\n",
       "   847620049.0,\n",
       "   847620049.0,\n",
       "   847620347.0,\n",
       "   847620411.0,\n",
       "   847620049.0,\n",
       "   847620072.0,\n",
       "   847620176.0,\n",
       "   847620211.0,\n",
       "   847620690.0,\n",
       "   847619900.0,\n",
       "   847620748.0,\n",
       "   847620748.0,\n",
       "   847620049.0,\n",
       "   847620233.0,\n",
       "   847620106.0,\n",
       "   847620656.0,\n",
       "   847620072.0,\n",
       "   847619900.0,\n",
       "   847619878.0]),\n",
       " ('23161',\n",
       "  [945058557.0,\n",
       "   945063385.0,\n",
       "   945049906.0,\n",
       "   945063316.0,\n",
       "   945049950.0,\n",
       "   945057901.0,\n",
       "   945057196.0,\n",
       "   945057745.0,\n",
       "   945057745.0,\n",
       "   945058411.0,\n",
       "   945050030.0,\n",
       "   945049753.0,\n",
       "   945063619.0,\n",
       "   945061581.0,\n",
       "   945058080.0,\n",
       "   945057505.0,\n",
       "   945057506.0,\n",
       "   945057314.0,\n",
       "   945061786.0,\n",
       "   945049117.0,\n",
       "   945057745.0,\n",
       "   945057351.0,\n",
       "   945050473.0,\n",
       "   945050180.0,\n",
       "   945063339.0,\n",
       "   945063284.0,\n",
       "   945049906.0,\n",
       "   945057821.0,\n",
       "   945062117.0,\n",
       "   945050149.0,\n",
       "   945050180.0,\n",
       "   945057977.0,\n",
       "   945057314.0,\n",
       "   945049792.0,\n",
       "   945057197.0,\n",
       "   945058302.0,\n",
       "   945309039.0,\n",
       "   945050507.0,\n",
       "   945057538.0,\n",
       "   945049986.0,\n",
       "   945057197.0,\n",
       "   945049986.0,\n",
       "   945050428.0,\n",
       "   945061591.0,\n",
       "   945058277.0,\n",
       "   945063284.0,\n",
       "   945063316.0,\n",
       "   945063511.0,\n",
       "   945050221.0,\n",
       "   945063284.0,\n",
       "   945061819.0,\n",
       "   945057453.0,\n",
       "   945061618.0,\n",
       "   945062117.0,\n",
       "   945063236.0,\n",
       "   945049906.0,\n",
       "   945057417.0,\n",
       "   945061388.0,\n",
       "   945050962.0,\n",
       "   945057745.0,\n",
       "   945061499.0,\n",
       "   945058245.0,\n",
       "   945061521.0,\n",
       "   945049237.0,\n",
       "   945050071.0,\n",
       "   945063183.0,\n",
       "   945050940.0,\n",
       "   945058495.0,\n",
       "   945049754.0,\n",
       "   945049792.0,\n",
       "   945050403.0,\n",
       "   945049792.0,\n",
       "   945050896.0,\n",
       "   945050428.0,\n",
       "   945061581.0,\n",
       "   945050453.0,\n",
       "   945050473.0,\n",
       "   945049906.0,\n",
       "   945049819.0,\n",
       "   945049723.0,\n",
       "   945049819.0,\n",
       "   945050896.0,\n",
       "   945051054.0,\n",
       "   945062059.0,\n",
       "   945050112.0,\n",
       "   945050071.0,\n",
       "   945057351.0,\n",
       "   945050221.0,\n",
       "   945063440.0,\n",
       "   945057977.0,\n",
       "   945062118.0,\n",
       "   945049861.0,\n",
       "   945057314.0,\n",
       "   945061749.0,\n",
       "   945057901.0,\n",
       "   945057868.0,\n",
       "   945061618.0,\n",
       "   945063461.0,\n",
       "   945057821.0,\n",
       "   945050030.0,\n",
       "   945058080.0,\n",
       "   945057417.0,\n",
       "   945063414.0,\n",
       "   945058080.0,\n",
       "   945050030.0,\n",
       "   945049950.0,\n",
       "   945057232.0,\n",
       "   945063385.0,\n",
       "   945061388.0,\n",
       "   945057938.0,\n",
       "   945057417.0,\n",
       "   945057506.0,\n",
       "   945057314.0,\n",
       "   945050428.0,\n",
       "   945050030.0,\n",
       "   945051070.0,\n",
       "   945057868.0,\n",
       "   945057232.0,\n",
       "   945057262.0,\n",
       "   945057262.0,\n",
       "   945049146.0,\n",
       "   945050180.0,\n",
       "   945057821.0,\n",
       "   945057197.0,\n",
       "   945057417.0,\n",
       "   945058040.0,\n",
       "   945057453.0,\n",
       "   945057506.0,\n",
       "   945050287.0,\n",
       "   945057232.0,\n",
       "   945057745.0,\n",
       "   945057417.0,\n",
       "   945063298.0,\n",
       "   945061786.0,\n",
       "   945063385.0,\n",
       "   945049754.0,\n",
       "   945063209.0,\n",
       "   945063284.0,\n",
       "   945050149.0,\n",
       "   945058006.0,\n",
       "   945050221.0,\n",
       "   945049950.0,\n",
       "   945050149.0,\n",
       "   945049646.0,\n",
       "   945049950.0,\n",
       "   945063528.0,\n",
       "   945049610.0,\n",
       "   945063339.0,\n",
       "   945050112.0,\n",
       "   945057829.0,\n",
       "   945063254.0,\n",
       "   945062118.0,\n",
       "   945049553.0,\n",
       "   945309039.0,\n",
       "   945057868.0,\n",
       "   945049861.0,\n",
       "   945049496.0,\n",
       "   945057977.0,\n",
       "   945061800.0,\n",
       "   945057314.0,\n",
       "   945049196.0,\n",
       "   945061581.0,\n",
       "   945049388.0,\n",
       "   945057262.0,\n",
       "   945049418.0,\n",
       "   945049536.0,\n",
       "   945049117.0,\n",
       "   945049449.0,\n",
       "   945063440.0,\n",
       "   945049610.0,\n",
       "   945051032.0,\n",
       "   945057453.0,\n",
       "   945049950.0,\n",
       "   945051032.0,\n",
       "   945309054.0,\n",
       "   945050112.0,\n",
       "   945057538.0,\n",
       "   945049646.0,\n",
       "   945050149.0,\n",
       "   945058557.0]),\n",
       " ('240955',\n",
       "  [861191393.0,\n",
       "   861191466.0,\n",
       "   861191466.0,\n",
       "   862840712.0,\n",
       "   862841184.0,\n",
       "   861191608.0,\n",
       "   861191394.0,\n",
       "   861191392.0,\n",
       "   861191685.0,\n",
       "   861191723.0,\n",
       "   862840951.0,\n",
       "   862840951.0,\n",
       "   861191394.0,\n",
       "   862841184.0,\n",
       "   861191524.0,\n",
       "   861191636.0,\n",
       "   862840789.0,\n",
       "   861191570.0,\n",
       "   862840431.0,\n",
       "   861191466.0,\n",
       "   861191524.0,\n",
       "   861191466.0,\n",
       "   861191466.0,\n",
       "   861191684.0,\n",
       "   861191570.0,\n",
       "   861191524.0,\n",
       "   862841383.0,\n",
       "   862840789.0,\n",
       "   861191466.0,\n",
       "   861191393.0,\n",
       "   861191684.0,\n",
       "   861191764.0,\n",
       "   861191392.0,\n",
       "   861191608.0,\n",
       "   861191524.0,\n",
       "   861191723.0,\n",
       "   861191466.0,\n",
       "   861191524.0,\n",
       "   862840293.0,\n",
       "   861191570.0,\n",
       "   862841489.0,\n",
       "   861191796.0,\n",
       "   861191832.0,\n",
       "   862841489.0,\n",
       "   861192401.0,\n",
       "   861191608.0,\n",
       "   861191685.0,\n",
       "   862841093.0,\n",
       "   861191764.0,\n",
       "   861192401.0,\n",
       "   861191861.0,\n",
       "   861191466.0,\n",
       "   862841184.0,\n",
       "   861191608.0,\n",
       "   861191570.0,\n",
       "   861191723.0]),\n",
       " ('226527', [979403411.0, 979403454.0, 979403454.0, 979403454.0, 979403411.0]),\n",
       " ('207119',\n",
       "  [1013822922.0,\n",
       "   1013822844.0,\n",
       "   1013822871.0,\n",
       "   1013822844.0,\n",
       "   1013822891.0,\n",
       "   1013822871.0,\n",
       "   1013822922.0,\n",
       "   1013822844.0,\n",
       "   1013822871.0,\n",
       "   1013822871.0,\n",
       "   1013822844.0,\n",
       "   1013822922.0,\n",
       "   1013822991.0,\n",
       "   1013823021.0,\n",
       "   1013823045.0,\n",
       "   1013823021.0,\n",
       "   1013822991.0,\n",
       "   1013823068.0,\n",
       "   1013822991.0,\n",
       "   1013823045.0,\n",
       "   1013823021.0,\n",
       "   1013822991.0,\n",
       "   1013823068.0,\n",
       "   1013823046.0,\n",
       "   1013823151.0])]"
      ]
     },
     "execution_count": 71,
     "metadata": {},
     "output_type": "execute_result"
    }
   ],
   "source": [
    "ratingGroupByUsers = userRatings.groupByKey().mapValues(list)\n",
    "ratingGroupByUsers.take(5)"
   ]
  },
  {
   "cell_type": "code",
   "execution_count": 72,
   "metadata": {},
   "outputs": [
    {
     "data": {
      "text/plain": [
       "[('67056', 37.26),\n",
       " ('77986', 3230.665418227216),\n",
       " ('226527', 8.6),\n",
       " ('207119', 12.28),\n",
       " ('53196', 7.011363636363637)]"
      ]
     },
     "execution_count": 72,
     "metadata": {},
     "output_type": "execute_result"
    }
   ],
   "source": [
    "avgRatingFreq = ratingGroupByUsers.mapValues(lambda V: (max(V) - min(V)) / float(len(V)))\n",
    "avgRatingFreq.take(5)"
   ]
  },
  {
   "cell_type": "code",
   "execution_count": null,
   "metadata": {
    "collapsed": true
   },
   "outputs": [],
   "source": [
    "x = [1346139060.0,\n",
    "   1346139098.0,\n",
    "   1346139113.0,\n",
    "   1346139053.0,\n",
    "   1346139234.0,\n",
    "   1346139006.0,\n",
    "   1346139209.0,\n",
    "   1346139147.0,\n",
    "   1346138998.0,\n",
    "   1346139206.0,\n",
    "   1346139224.0,\n",
    "   1346139174.0,\n",
    "   1346139152.0,\n",
    "   1346139230.0,\n",
    "   1346139181.0,\n",
    "   1346139159.0,\n",
    "   1346139314.0]\n",
    "(max(x) - min(x)) / float(len(x))"
   ]
  },
  {
   "cell_type": "code",
   "execution_count": 73,
   "metadata": {
    "collapsed": true
   },
   "outputs": [],
   "source": [
    "topUsers = avgRatingFreq.top(10, key=lambda x: x[1])"
   ]
  },
  {
   "cell_type": "code",
   "execution_count": 74,
   "metadata": {},
   "outputs": [
    {
     "data": {
      "text/plain": [
       "[('40407', 51121853.75),\n",
       " ('241087', 40917744.72727273),\n",
       " ('54838', 36601016.0),\n",
       " ('248290', 33999095.666666664),\n",
       " ('39601', 33138222.0),\n",
       " ('155302', 33013341.666666668),\n",
       " ('117995', 29406107.25),\n",
       " ('183383', 29210786.666666668),\n",
       " ('121552', 26685917.875),\n",
       " ('74936', 26309319.0)]"
      ]
     },
     "execution_count": 74,
     "metadata": {},
     "output_type": "execute_result"
    }
   ],
   "source": [
    "topUsers"
   ]
  },
  {
   "cell_type": "code",
   "execution_count": null,
   "metadata": {
    "collapsed": true
   },
   "outputs": [],
   "source": [
    "sc.stop()"
   ]
  }
 ],
 "metadata": {
  "kernelspec": {
   "display_name": "Python 3 (Anaconda)",
   "language": "python",
   "name": "anaconda_py3"
  },
  "language_info": {
   "codemirror_mode": {
    "name": "ipython",
    "version": 3
   },
   "file_extension": ".py",
   "mimetype": "text/x-python",
   "name": "python",
   "nbconvert_exporter": "python",
   "pygments_lexer": "ipython3",
   "version": "3.5.2"
  }
 },
 "nbformat": 4,
 "nbformat_minor": 1
}
