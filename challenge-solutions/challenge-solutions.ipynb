{
 "cells": [
  {
   "cell_type": "markdown",
   "metadata": {},
   "source": [
    "**NOTE:** Since we have not created a SparkContext in this notebook, you WILL NOT be able to execute the solutions from within this notebook. These solutions are for reference only and should be copied one cell at a time to the notebook corresponding to the challenge question."
   ]
  },
  {
   "cell_type": "markdown",
   "metadata": {},
   "source": [
    "**Solution to the challenge at the end of the notebook *intro-to-pyspark-01***"
   ]
  },
  {
   "cell_type": "code",
   "execution_count": 1,
   "metadata": {
    "collapsed": true
   },
   "outputs": [],
   "source": [
    "import string"
   ]
  },
  {
   "cell_type": "code",
   "execution_count": null,
   "metadata": {
    "collapsed": true
   },
   "outputs": [],
   "source": [
    "%%time\n",
    "\n",
    "translator = str.maketrans('', '', string.punctuation)\n",
    "\n",
    "wordcount_enhanced = textFile.flatMap(lambda line: line.split(\" \")) \\\n",
    "            .map(lambda word: (word.translate(translator).lower(), 1)) \\\n",
    "            .reduceByKey(lambda a, b: a + b)\n",
    "\n",
    "print(wordcount_enhanced.take(100))"
   ]
  },
  {
   "cell_type": "markdown",
   "metadata": {},
   "source": [
    "# TODO: Complete adding challenge solutions here for user reference."
   ]
  }
 ],
 "metadata": {
  "kernelspec": {
   "display_name": "Python 3 (Anaconda)",
   "language": "python",
   "name": "anaconda_py3"
  },
  "language_info": {
   "codemirror_mode": {
    "name": "ipython",
    "version": 3
   },
   "file_extension": ".py",
   "mimetype": "text/x-python",
   "name": "python",
   "nbconvert_exporter": "python",
   "pygments_lexer": "ipython3",
   "version": "3.5.2"
  }
 },
 "nbformat": 4,
 "nbformat_minor": 2
}
